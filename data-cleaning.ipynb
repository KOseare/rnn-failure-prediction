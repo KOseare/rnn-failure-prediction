{
 "cells": [
  {
   "cell_type": "markdown",
   "metadata": {},
   "source": [
    "# Join data files"
   ]
  },
  {
   "cell_type": "code",
   "execution_count": 4,
   "metadata": {},
   "outputs": [
    {
     "name": "stderr",
     "output_type": "stream",
     "text": [
      "C:\\Users\\Dario\\AppData\\Local\\Temp\\ipykernel_9632\\2468897074.py:11: DtypeWarning: Columns (2) have mixed types. Specify dtype option on import or set low_memory=False.\n",
      "  pd.read_csv(csv_files[0], skip_blank_lines=True).to_csv(f_out, index=False, lineterminator='\\n')\n",
      "C:\\Users\\Dario\\AppData\\Local\\Temp\\ipykernel_9632\\2468897074.py:16: DtypeWarning: Columns (2) have mixed types. Specify dtype option on import or set low_memory=False.\n",
      "  pd.read_csv(file, skip_blank_lines=True).to_csv(f_out, index=False, header=False, lineterminator='\\n')\n",
      "C:\\Users\\Dario\\AppData\\Local\\Temp\\ipykernel_9632\\2468897074.py:16: DtypeWarning: Columns (2) have mixed types. Specify dtype option on import or set low_memory=False.\n",
      "  pd.read_csv(file, skip_blank_lines=True).to_csv(f_out, index=False, header=False, lineterminator='\\n')\n",
      "C:\\Users\\Dario\\AppData\\Local\\Temp\\ipykernel_9632\\2468897074.py:16: DtypeWarning: Columns (10) have mixed types. Specify dtype option on import or set low_memory=False.\n",
      "  pd.read_csv(file, skip_blank_lines=True).to_csv(f_out, index=False, header=False, lineterminator='\\n')\n"
     ]
    },
    {
     "name": "stdout",
     "output_type": "stream",
     "text": [
      "CSV files appended successfully into 'merged.csv'\n"
     ]
    }
   ],
   "source": [
    "import pandas as pd\n",
    "\n",
    "# List of CSV file paths\n",
    "csv_files = ['ia-data_06-23_08-23.csv', 'ia-data_09-23_12-23.csv', 'ia-data_01-24_03-24.csv', 'ia-data_04-24_06-24.csv', 'ia-data_07-24_11-24.csv']\n",
    "\n",
    "# Output file\n",
    "output_file = 'raw_ia_data.csv'\n",
    "\n",
    "# Create the output file with the header from the first CSV\n",
    "with open(output_file, 'w') as f_out:\n",
    "    pd.read_csv(csv_files[0], skip_blank_lines=True).to_csv(f_out, index=False, lineterminator='\\n')\n",
    "\n",
    "# Append the remaining files without the header\n",
    "for file in csv_files[1:]:\n",
    "    with open(output_file, 'a') as f_out:\n",
    "        pd.read_csv(file, skip_blank_lines=True).to_csv(f_out, index=False, header=False, lineterminator='\\n')\n",
    "\n",
    "print(\"CSV files appended successfully into 'merged.csv'\")\n"
   ]
  },
  {
   "cell_type": "code",
   "execution_count": 2,
   "metadata": {},
   "outputs": [
    {
     "name": "stderr",
     "output_type": "stream",
     "text": [
      "C:\\Users\\Dario\\AppData\\Local\\Temp\\ipykernel_14356\\3081564111.py:2: DtypeWarning: Columns (2,10) have mixed types. Specify dtype option on import or set low_memory=False.\n",
      "  df = pd.read_csv('raw_ia_data.csv')\n"
     ]
    }
   ],
   "source": [
    "import pandas as pd\n",
    "df = pd.read_csv('raw_ia_data.csv')\n",
    "df['Time'] = pd.to_datetime(df['Time'])\n",
    "df.sort_values(by=['deviceId', 'Time'], inplace=True)\n",
    "df.to_csv('raw_ia_data.csv', index=False)"
   ]
  },
  {
   "cell_type": "markdown",
   "metadata": {},
   "source": [
    "# Get packets previous to a failure"
   ]
  },
  {
   "cell_type": "code",
   "execution_count": 2,
   "metadata": {},
   "outputs": [
    {
     "name": "stderr",
     "output_type": "stream",
     "text": [
      "C:\\Users\\Dario\\AppData\\Local\\Temp\\ipykernel_15252\\2444059446.py:7: DtypeWarning: Columns (2,10) have mixed types. Specify dtype option on import or set low_memory=False.\n",
      "  df = pd.read_csv('raw_ia_data.csv')\n"
     ]
    },
    {
     "name": "stdout",
     "output_type": "stream",
     "text": [
      "START 3162739\n"
     ]
    },
    {
     "name": "stderr",
     "output_type": "stream",
     "text": [
      "100%|██████████| 3162739/3162739 [01:40<00:00, 31617.75it/s]\n"
     ]
    },
    {
     "data": {
      "text/html": [
       "<div>\n",
       "<style scoped>\n",
       "    .dataframe tbody tr th:only-of-type {\n",
       "        vertical-align: middle;\n",
       "    }\n",
       "\n",
       "    .dataframe tbody tr th {\n",
       "        vertical-align: top;\n",
       "    }\n",
       "\n",
       "    .dataframe thead th {\n",
       "        text-align: right;\n",
       "    }\n",
       "</style>\n",
       "<table border=\"1\" class=\"dataframe\">\n",
       "  <thead>\n",
       "    <tr style=\"text-align: right;\">\n",
       "      <th></th>\n",
       "      <th>Time</th>\n",
       "      <th>angle</th>\n",
       "      <th>distanceSpeed</th>\n",
       "      <th>flow</th>\n",
       "      <th>latitude</th>\n",
       "      <th>longitude</th>\n",
       "      <th>pressure</th>\n",
       "      <th>rawSpeed</th>\n",
       "      <th>speed</th>\n",
       "      <th>state</th>\n",
       "    </tr>\n",
       "  </thead>\n",
       "  <tbody>\n",
       "    <tr>\n",
       "      <th>count</th>\n",
       "      <td>80533</td>\n",
       "      <td>80533.000000</td>\n",
       "      <td>80533.000000</td>\n",
       "      <td>80533.000000</td>\n",
       "      <td>80533.000000</td>\n",
       "      <td>80533.000000</td>\n",
       "      <td>80533.000000</td>\n",
       "      <td>80533.000000</td>\n",
       "      <td>80533.000000</td>\n",
       "      <td>80533.000000</td>\n",
       "    </tr>\n",
       "    <tr>\n",
       "      <th>mean</th>\n",
       "      <td>2024-01-27 20:12:35.534936064</td>\n",
       "      <td>173.920395</td>\n",
       "      <td>22.730902</td>\n",
       "      <td>207.389628</td>\n",
       "      <td>-31.972362</td>\n",
       "      <td>-64.706832</td>\n",
       "      <td>1.267521</td>\n",
       "      <td>0.014087</td>\n",
       "      <td>0.104917</td>\n",
       "      <td>4.852744</td>\n",
       "    </tr>\n",
       "    <tr>\n",
       "      <th>min</th>\n",
       "      <td>2023-06-02 09:59:13</td>\n",
       "      <td>0.000000</td>\n",
       "      <td>-47.000000</td>\n",
       "      <td>43.200000</td>\n",
       "      <td>-40.740237</td>\n",
       "      <td>-112.048533</td>\n",
       "      <td>0.000000</td>\n",
       "      <td>-141.000000</td>\n",
       "      <td>0.000000</td>\n",
       "      <td>0.000000</td>\n",
       "    </tr>\n",
       "    <tr>\n",
       "      <th>25%</th>\n",
       "      <td>2023-10-31 06:30:21</td>\n",
       "      <td>81.800000</td>\n",
       "      <td>0.126000</td>\n",
       "      <td>120.000000</td>\n",
       "      <td>-37.621616</td>\n",
       "      <td>-65.797910</td>\n",
       "      <td>0.300000</td>\n",
       "      <td>-0.028000</td>\n",
       "      <td>0.009640</td>\n",
       "      <td>6.000000</td>\n",
       "    </tr>\n",
       "    <tr>\n",
       "      <th>50%</th>\n",
       "      <td>2024-01-12 13:41:26</td>\n",
       "      <td>171.000000</td>\n",
       "      <td>0.557000</td>\n",
       "      <td>181.000000</td>\n",
       "      <td>-34.085091</td>\n",
       "      <td>-62.548989</td>\n",
       "      <td>1.200000</td>\n",
       "      <td>0.003610</td>\n",
       "      <td>0.064800</td>\n",
       "      <td>6.000000</td>\n",
       "    </tr>\n",
       "    <tr>\n",
       "      <th>75%</th>\n",
       "      <td>2024-02-27 13:37:18</td>\n",
       "      <td>265.000000</td>\n",
       "      <td>0.983000</td>\n",
       "      <td>250.000000</td>\n",
       "      <td>-31.958102</td>\n",
       "      <td>-60.600987</td>\n",
       "      <td>1.900000</td>\n",
       "      <td>0.079600</td>\n",
       "      <td>0.136000</td>\n",
       "      <td>6.000000</td>\n",
       "    </tr>\n",
       "    <tr>\n",
       "      <th>max</th>\n",
       "      <td>2024-11-20 20:14:42</td>\n",
       "      <td>360.000000</td>\n",
       "      <td>488031.000000</td>\n",
       "      <td>900.000000</td>\n",
       "      <td>31.029565</td>\n",
       "      <td>-0.087667</td>\n",
       "      <td>10.000000</td>\n",
       "      <td>11.600000</td>\n",
       "      <td>141.000000</td>\n",
       "      <td>8.000000</td>\n",
       "    </tr>\n",
       "    <tr>\n",
       "      <th>std</th>\n",
       "      <td>NaN</td>\n",
       "      <td>104.934566</td>\n",
       "      <td>2725.175748</td>\n",
       "      <td>109.725799</td>\n",
       "      <td>11.104041</td>\n",
       "      <td>8.577342</td>\n",
       "      <td>1.075326</td>\n",
       "      <td>0.552844</td>\n",
       "      <td>0.543072</td>\n",
       "      <td>2.095278</td>\n",
       "    </tr>\n",
       "  </tbody>\n",
       "</table>\n",
       "</div>"
      ],
      "text/plain": [
       "                                Time         angle  distanceSpeed  \\\n",
       "count                          80533  80533.000000   80533.000000   \n",
       "mean   2024-01-27 20:12:35.534936064    173.920395      22.730902   \n",
       "min              2023-06-02 09:59:13      0.000000     -47.000000   \n",
       "25%              2023-10-31 06:30:21     81.800000       0.126000   \n",
       "50%              2024-01-12 13:41:26    171.000000       0.557000   \n",
       "75%              2024-02-27 13:37:18    265.000000       0.983000   \n",
       "max              2024-11-20 20:14:42    360.000000  488031.000000   \n",
       "std                              NaN    104.934566    2725.175748   \n",
       "\n",
       "               flow      latitude     longitude      pressure      rawSpeed  \\\n",
       "count  80533.000000  80533.000000  80533.000000  80533.000000  80533.000000   \n",
       "mean     207.389628    -31.972362    -64.706832      1.267521      0.014087   \n",
       "min       43.200000    -40.740237   -112.048533      0.000000   -141.000000   \n",
       "25%      120.000000    -37.621616    -65.797910      0.300000     -0.028000   \n",
       "50%      181.000000    -34.085091    -62.548989      1.200000      0.003610   \n",
       "75%      250.000000    -31.958102    -60.600987      1.900000      0.079600   \n",
       "max      900.000000     31.029565     -0.087667     10.000000     11.600000   \n",
       "std      109.725799     11.104041      8.577342      1.075326      0.552844   \n",
       "\n",
       "              speed         state  \n",
       "count  80533.000000  80533.000000  \n",
       "mean       0.104917      4.852744  \n",
       "min        0.000000      0.000000  \n",
       "25%        0.009640      6.000000  \n",
       "50%        0.064800      6.000000  \n",
       "75%        0.136000      6.000000  \n",
       "max      141.000000      8.000000  \n",
       "std        0.543072      2.095278  "
      ]
     },
     "execution_count": 2,
     "metadata": {},
     "output_type": "execute_result"
    }
   ],
   "source": [
    "import pandas as pd\n",
    "from tqdm import tqdm\n",
    "\n",
    "ALARM_PUMP = 3\n",
    "ALARM_EQUIPMENT = 5\n",
    "\n",
    "df = pd.read_csv('raw_ia_data.csv')\n",
    "df['Time'] = pd.to_datetime(df['Time'])\n",
    "df.sort_values(by=['deviceId', 'Time'], inplace=True)\n",
    "print('START', df.shape[0])\n",
    "\n",
    "rows_to_drop = []  # Indices to drop\n",
    "last_row = None\n",
    "for index in tqdm(df.iloc[::-1].index):  # Reverse order\n",
    "    current_state = df.loc[index, 'state']\n",
    "    current_time = df.loc[index, 'Time']\n",
    "\n",
    "    if current_state == ALARM_PUMP or current_state == ALARM_EQUIPMENT:    # Apply condition\n",
    "        if last_row is not None:\n",
    "            rows_to_drop.append(last_row['Index'])  # Mark the last row for deletion\n",
    "        last_row = {'Time': current_time, 'State': current_state, 'Index': index}\n",
    "    elif last_row is not None:\n",
    "        time_diff = last_row['Time'] - current_time\n",
    "        if  time_diff.total_seconds() > 6 * 3600:   # Less than 6 hours\n",
    "          last_row = None\n",
    "    else:\n",
    "      rows_to_drop.append(index)  # Mark the row for deletion\n",
    "\n",
    "# Drop rows in a single operation (more efficient)\n",
    "df.drop(rows_to_drop, inplace=True)\n",
    "# Reset the index after dropping rows (optional)\n",
    "df.reset_index(drop=True, inplace=True)\n",
    "\n",
    "df.to_csv('ia_data_events.csv', index=False)\n",
    "\n",
    "df.describe()"
   ]
  },
  {
   "cell_type": "markdown",
   "metadata": {},
   "source": [
    "# Get random periods with NO failures"
   ]
  },
  {
   "cell_type": "code",
   "execution_count": null,
   "metadata": {},
   "outputs": [],
   "source": [
    "import numpy as np\n",
    "\n"
   ]
  }
 ],
 "metadata": {
  "kernelspec": {
   "display_name": "Python 3",
   "language": "python",
   "name": "python3"
  },
  "language_info": {
   "codemirror_mode": {
    "name": "ipython",
    "version": 3
   },
   "file_extension": ".py",
   "mimetype": "text/x-python",
   "name": "python",
   "nbconvert_exporter": "python",
   "pygments_lexer": "ipython3",
   "version": "3.10.11"
  }
 },
 "nbformat": 4,
 "nbformat_minor": 2
}
